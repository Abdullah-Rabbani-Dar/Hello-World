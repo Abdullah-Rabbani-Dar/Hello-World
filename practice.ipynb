{
 "cells": [
  {
   "cell_type": "code",
   "execution_count": null,
   "id": "8774472c",
   "metadata": {},
   "outputs": [],
   "source": [
    "x= int(input('Enter a number between 0 and 35:\\n'))\n",
    "if x<=9:\n",
    "    print(x)\n",
    "else:\n",
    "    print (chr(x+55))"
   ]
  },
  {
   "cell_type": "markdown",
   "id": "d8626710",
   "metadata": {},
   "source": [
    "# Question 1"
   ]
  },
  {
   "cell_type": "code",
   "execution_count": 8,
   "id": "33aa42e9",
   "metadata": {},
   "outputs": [
    {
     "name": "stdout",
     "output_type": "stream",
     "text": [
      "Enter a number:\n",
      "4\n",
      "Enter a number:\n",
      "5\n",
      "5 is greater than 4\n"
     ]
    }
   ],
   "source": [
    "x= int(input('Enter a number:\\n'))\n",
    "y= int(input('Enter a number:\\n'))\n",
    "if x > y:\n",
    "    print(x,\"is greater than\",y)\n",
    "elif x == y:\n",
    "    print(x,\"is equal to\",y)\n",
    "else:\n",
    "    print(y,\"is greater than\",x)"
   ]
  },
  {
   "cell_type": "markdown",
   "id": "2db0e843",
   "metadata": {},
   "source": [
    "# Question "
   ]
  },
  {
   "cell_type": "code",
   "execution_count": 68,
   "id": "c693bcff",
   "metadata": {},
   "outputs": [
    {
     "name": "stdout",
     "output_type": "stream",
     "text": [
      "\n",
      "\n",
      "0 \n",
      "\n",
      "0 1 \n",
      "\n",
      "0 1 2 \n",
      "\n",
      "0 1 2 3 \n",
      "\n",
      "0 1 2 3 4 \n",
      "\n",
      "0 1 2 3 4 5 \n",
      "\n",
      "0 1 2 3 4 5 6 \n",
      "\n",
      "0 1 2 3 4 5 6 7 \n",
      "\n",
      "0 1 2 3 4 5 6 7 8 \n",
      "\n",
      "9 9 9 9 9 9 9 9 9 \n",
      "\n",
      "8 8 8 8 8 8 8 8 \n",
      "\n",
      "7 7 7 7 7 7 7 \n",
      "\n",
      "6 6 6 6 6 6 \n",
      "\n",
      "5 5 5 5 5 \n",
      "\n",
      "4 4 4 4 \n",
      "\n",
      "3 3 3 \n",
      "\n",
      "2 2 \n",
      "\n",
      "1 \n",
      "\n"
     ]
    }
   ],
   "source": [
    "\n",
    "for y in range(1,10):\n",
    "    print('\\n')\n",
    "    for t in range(y):\n",
    "        print(t,end=' ')\n",
    "        \n",
    "for s in range (,-1,-1):\n",
    "    print('\\n')\n",
    "    for b in range(s):\n",
    "        print(s,end=' ')\n",
    "       \n",
    " "
   ]
  },
  {
   "cell_type": "markdown",
   "id": "c8d0ae93",
   "metadata": {},
   "source": [
    "# Question 3"
   ]
  },
  {
   "cell_type": "code",
   "execution_count": 13,
   "id": "282ba478",
   "metadata": {},
   "outputs": [
    {
     "name": "stdout",
     "output_type": "stream",
     "text": [
      "Enter a number between 1 and 10:\n",
      "9\n",
      "Number converted into roman is: IX\n"
     ]
    }
   ],
   "source": [
    "x= int(input('Enter a number between 1 and 10:\\n'))\n",
    "roman =[\"I\",'II',\"III\",\"IV\",\"V\",\"VI\",\"VII\",\"VIII\",\"IX\",\"X\"]\n",
    "if x > 10 or x < 1:\n",
    "    print(\"invalid entry\")\n",
    "print(\"Number converted into roman is:\",roman[x-1])\n"
   ]
  },
  {
   "cell_type": "markdown",
   "id": "742b4f96",
   "metadata": {},
   "source": [
    "# Question 4"
   ]
  },
  {
   "cell_type": "code",
   "execution_count": 16,
   "id": "4251587a",
   "metadata": {},
   "outputs": [
    {
     "name": "stdout",
     "output_type": "stream",
     "text": [
      "Enter a day:\n",
      "22\n",
      "Enter a month:\n",
      "1\n",
      "Enter a year in 2 digit format:\n",
      "22\n",
      "The date is magic\n"
     ]
    }
   ],
   "source": [
    "day= int(input('Enter a day:\\n'))\n",
    "month= int(input('Enter a month:\\n'))\n",
    "year =int(input(\"Enter a year in 2 digit format:\\n\"))\n",
    "if month*day == year:\n",
    "    print(\"The date is magic\")\n",
    "else:\n",
    "    print(\"The date is not magic\")\n",
    "    "
   ]
  },
  {
   "cell_type": "markdown",
   "id": "184038b3",
   "metadata": {},
   "source": [
    "# Question5"
   ]
  },
  {
   "cell_type": "code",
   "execution_count": 17,
   "id": "b4a80a04",
   "metadata": {},
   "outputs": [
    {
     "name": "stdout",
     "output_type": "stream",
     "text": [
      "Enter lenth for rectnagle A:\n",
      "2\n",
      "Enter Width for rectangle A:\n",
      "2\n",
      "Enter lenth for rectnagle B:\n",
      "2\n",
      "Enter Width for rectangle B:\n",
      "2\n",
      "Rectangle A has a Area equal to B\n"
     ]
    }
   ],
   "source": [
    "la= int(input('Enter lenth for rectnagle A:\\n'))\n",
    "wa= int(input('Enter Width for rectangle A:\\n'))\n",
    "lb= int(input('Enter lenth for rectnagle B:\\n'))\n",
    "wb= int(input('Enter Width for rectangle B:\\n'))\n",
    "if la*wa > lb*wb:\n",
    "    print(\"Rectangle A has a greater Area\")\n",
    "elif la*wa < lb*wb:\n",
    "    print(\"Rectangle B has a greater Area\")    \n",
    "elif la*wa == lb*wb:\n",
    "    print(\"Rectangle A has a Area equal to B\")    "
   ]
  },
  {
   "cell_type": "markdown",
   "id": "eef9f52e",
   "metadata": {},
   "source": [
    "# Question 6"
   ]
  },
  {
   "cell_type": "code",
   "execution_count": 26,
   "id": "bd490068",
   "metadata": {},
   "outputs": [
    {
     "name": "stdout",
     "output_type": "stream",
     "text": [
      "Enter the number of book purchsed:4\n",
      "Points Awarded: 60\n"
     ]
    }
   ],
   "source": [
    "pur=int(input(\"Enter the number of book purchsed:\"))\n",
    "if pur == 0:\n",
    "     print(\"Points Awarded:\",0)\n",
    "elif pur == 1:\n",
    "      print(\"Points Awarded:\",5)\n",
    "elif pur >1:\n",
    "    temp2 = pur * 5\n",
    "    temp = temp2\n",
    "    temp2 *= pur\n",
    "    temp2 -= temp\n",
    "    print(\"Points Awarded:\",temp2)\n",
    "    \n",
    "    \n",
    "   "
   ]
  },
  {
   "cell_type": "markdown",
   "id": "c4e05536",
   "metadata": {},
   "source": [
    "# Question 7"
   ]
  },
  {
   "cell_type": "code",
   "execution_count": 28,
   "id": "a198aa8f",
   "metadata": {},
   "outputs": [
    {
     "name": "stdout",
     "output_type": "stream",
     "text": [
      "Enter a Objects mass:1000\n",
      "Weight exceeds 1000 newtons,object too heavy\n"
     ]
    }
   ],
   "source": [
    "mass=int(input(\"Enter a Objects mass:\"))\n",
    "if mass*9.8 > 1000:\n",
    "    print(\"Weight exceeds 1000 newtons,object too heavy\")\n",
    "elif mass*9.8 <10:\n",
    "    print(\"Weight is lower than 10 newtons,object too light\")\n",
    "else:\n",
    "    print(\"Weight of Object:\",mass*9.8)"
   ]
  },
  {
   "cell_type": "markdown",
   "id": "d10a39da",
   "metadata": {},
   "source": [
    "# Question8"
   ]
  },
  {
   "cell_type": "code",
   "execution_count": 42,
   "id": "03fecd4f",
   "metadata": {},
   "outputs": [
    {
     "name": "stdout",
     "output_type": "stream",
     "text": [
      "Enter the number of Seconds:8000\n",
      "Number of hour/s in  8000  seconds are/is:  2.2222222222222223\n"
     ]
    }
   ],
   "source": [
    "sec=int(input(\"Enter the number of Seconds:\"))\n",
    "if sec >= 86400:\n",
    "    print(\"Number of Day/s in \",sec,\" seconds are/is: \",sec/86400)\n",
    "elif sec >=3600 or (sec < 86400 and sec >=3600) :\n",
    "    print(\"Number of hour/s in \",sec,\" seconds are/is: \",sec/3600)\n",
    "elif sec >=60 or sec < 3600:\n",
    "    print(\"Number of minute/s in \",sec,\" seconds are/is: \",sec/60)    "
   ]
  },
  {
   "cell_type": "markdown",
   "id": "18f4e2dd",
   "metadata": {},
   "source": [
    "# Question 9"
   ]
  },
  {
   "cell_type": "code",
   "execution_count": 2,
   "id": "eaa17aa7",
   "metadata": {},
   "outputs": [
    {
     "name": "stdout",
     "output_type": "stream",
     "text": [
      "('What is:', 12, '+', 11)23\n",
      "Congratulations\n"
     ]
    }
   ],
   "source": [
    "\n",
    "import random\n",
    "x = random.randint(10,50)\n",
    "y = random.randint(10,50)\n",
    "z=int(input((\"What is:\",x,\"+\",y)))\n",
    "if z == x+y :\n",
    "    print(\"Congratulations\")\n",
    "else:\n",
    "    print(\"The correct answer is:\",x+y)\n"
   ]
  },
  {
   "cell_type": "markdown",
   "id": "1334ce27",
   "metadata": {},
   "source": [
    "# Question 10"
   ]
  },
  {
   "cell_type": "code",
   "execution_count": 22,
   "id": "99641c3f",
   "metadata": {},
   "outputs": [
    {
     "name": "stdout",
     "output_type": "stream",
     "text": [
      "Enter the quantity of units purchased:45\n",
      "Price after a 30% discount is: 69.3 $\n"
     ]
    }
   ],
   "source": [
    "q=int(input(\"Enter the quantity of units purchased:\"))\n",
    "if q==0:\n",
    "    print(\"Invalid input\")\n",
    "elif q <10:\n",
    "    print(\"Price is:\",99,'$')\n",
    "elif q == 10 or q <= 19:\n",
    "    print(\"Price after a 20% discount is:\",99-(99 * 0.2),'$')\n",
    "elif q == 20 or q <= 49:\n",
    "    print(\"Price after a 30% discount is:\",99-(99 * 0.3),'$')    \n",
    "elif q == 50 or q <= 99:\n",
    "    print(\"Price after a 40% discount is:\",99-(99 * 0.4),'$')    \n",
    "elif q == 100:\n",
    "    print(\"Price after a 50% discount is:\",99-(99 * 0.5),'$')    \n",
    "\n",
    "    "
   ]
  },
  {
   "cell_type": "markdown",
   "id": "42e55dc8",
   "metadata": {},
   "source": [
    "# Question 11"
   ]
  },
  {
   "cell_type": "code",
   "execution_count": 21,
   "id": "91d5b8ea",
   "metadata": {},
   "outputs": [
    {
     "name": "stdout",
     "output_type": "stream",
     "text": [
      "Enter the Number of Checks used:100\n",
      "bank fee is: 10.04 $\n"
     ]
    }
   ],
   "source": [
    "q=int(input(\"Enter the Number of Checks used:\"))\n",
    "if q==0:\n",
    "    print(\"Invalid input\")\n",
    "elif q <20:\n",
    "    print(\"Bank fee is:\",10+0.10,'$')\n",
    "elif q == 20 or q <= 39:\n",
    "    print(\"bank fee is:\",10+0.08,'$')\n",
    "elif q == 40 or q <= 59:\n",
    "    print(\"bank fee is:\",10+0.06,'$')  \n",
    "elif q >= 60:\n",
    "    print(\"bank fee is:\",10+0.04,'$')\n",
    "    "
   ]
  },
  {
   "cell_type": "markdown",
   "id": "4dee6f5b",
   "metadata": {},
   "source": [
    "# Question 12"
   ]
  },
  {
   "cell_type": "code",
   "execution_count": 16,
   "id": "bafbb74d",
   "metadata": {},
   "outputs": [
    {
     "name": "stdout",
     "output_type": "stream",
     "text": [
      "Enter name of a runner:ali\n",
      "Enter the time that runner took to complete the race:29\n",
      "Enter name of a runner:dar\n",
      "Enter the time that runner took to complete the race:15\n",
      "Enter name of a runner:moez\n",
      "Enter the time that runner took to complete the race:34\n",
      "dar Came first\n",
      "ali Came second\n",
      "moez Came third\n"
     ]
    }
   ],
   "source": [
    "name1=input(\"Enter name of a runner:\")\n",
    "time1=int(input(\"Enter the time that runner took to complete the race:\"))\n",
    "name2=input(\"Enter name of a runner:\")\n",
    "time2=int(input(\"Enter the time that runner took to complete the race:\"))\n",
    "name3=input(\"Enter name of a runner:\")\n",
    "time3=int(input(\"Enter the time that runner took to complete the race:\"))\n",
    "\n",
    "if time1 < time2 and time1 < time3:\n",
    "    print(name1,\"Came first\")\n",
    "    if time2 < time3:\n",
    "        print(name2,\"Came second\")\n",
    "        print(name3,\"Came third\")\n",
    "    else:\n",
    "        print(name3,\"Came second\")\n",
    "        print(name2,\"Came third\")\n",
    "        \n",
    "if time2 < time1 and time2 < time3:\n",
    "    print(name2,\"Came first\") \n",
    "    if time1 < time3:\n",
    "        print(name1,\"Came second\")\n",
    "        print(name3,\"Came third\")\n",
    "    else:\n",
    "        print(name3,\"Came second\")\n",
    "        print(name1,\"Came third\")\n",
    "        \n",
    "if time3 < time1 and time1 < time2:\n",
    "    print(name3,\"Came first\")\n",
    "    if time1 < time2:\n",
    "        print(name1,\"Came second\")\n",
    "        print(name2,\"Came third\")\n",
    "    else:\n",
    "        print(name2,\"Came second\")\n",
    "        print(name1,\"Came third\")\n",
    "        "
   ]
  },
  {
   "cell_type": "code",
   "execution_count": null,
   "id": "db329679",
   "metadata": {},
   "outputs": [],
   "source": []
  }
 ],
 "metadata": {
  "kernelspec": {
   "display_name": "Python 3 (ipykernel)",
   "language": "python",
   "name": "python3"
  },
  "language_info": {
   "codemirror_mode": {
    "name": "ipython",
    "version": 3
   },
   "file_extension": ".py",
   "mimetype": "text/x-python",
   "name": "python",
   "nbconvert_exporter": "python",
   "pygments_lexer": "ipython3",
   "version": "3.9.7"
  }
 },
 "nbformat": 4,
 "nbformat_minor": 5
}
